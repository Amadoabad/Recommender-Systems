{
  "cells": [
    {
      "cell_type": "markdown",
      "metadata": {
        "id": "PdvOiAc0Rs-1"
      },
      "source": [
        "$$ ITI \\space AI-Pro: \\space Intake \\space 45 $$\n",
        "$$ Recommender \\space Systems $$\n",
        "$$ Lab \\space no. \\space 4 $$"
      ]
    },
    {
      "cell_type": "markdown",
      "metadata": {
        "id": "jKKMmThyRs-3"
      },
      "source": [
        "import torch\n",
        "import torch.nn as nn\n",
        "import torch.optim as optim\n",
        "import torch.nn.functional as F\n",
        "import torchvision\n",
        "import torchvision.transforms as transforms\n",
        "import matplotlib.pyplot as plt\n",
        "import numpy as np"
      ]
    },
    {
      "cell_type": "markdown",
      "metadata": {
        "id": "PeknpJ3ERs-4"
      },
      "source": [
        "[link text](https://)# Check if GPU is available and set device accordingly\n"
      ]
    },
    {
      "cell_type": "code",
      "source": [
        "import torch\n",
        "from torch import nn\n",
        "from torch.utils.data import Dataset\n",
        "from torchvision import utils\n",
        "from torchvision import datasets, transforms, models\n",
        "import matplotlib.pyplot as plt\n",
        "import numpy as np"
      ],
      "metadata": {
        "id": "7PFKEQe9DKir"
      },
      "execution_count": 35,
      "outputs": []
    },
    {
      "cell_type": "code",
      "execution_count": 2,
      "metadata": {
        "id": "gmvgDATRRs-5"
      },
      "outputs": [],
      "source": [
        "device = 'cuda' if torch.cuda.is_available() else 'cpu'"
      ]
    },
    {
      "cell_type": "markdown",
      "metadata": {
        "id": "cwcwpxr7Rs-6"
      },
      "source": [
        "## 1. Tensors - The Fundamental Data Structure in PyTorch"
      ]
    },
    {
      "cell_type": "markdown",
      "metadata": {
        "id": "kcy_ZRlhRs-8"
      },
      "source": [
        "# Creating tensors\n"
      ]
    },
    {
      "cell_type": "code",
      "execution_count": 3,
      "metadata": {
        "id": "AUAmP4T6Rs-8",
        "colab": {
          "base_uri": "https://localhost:8080/"
        },
        "outputId": "83153b56-8217-4807-af49-d1215381bd40"
      },
      "outputs": [
        {
          "output_type": "stream",
          "name": "stdout",
          "text": [
            "tensor([1, 4, 5, 6, 5])\n",
            "\n",
            "tensor([[0, 1, 2],\n",
            "        [3, 4, 5]])\n",
            "\n",
            "tensor([1., 4., 5., 6., 5.])\n",
            "\n",
            "tensor([[1., 1., 1.],\n",
            "        [1., 1., 1.]])\n"
          ]
        }
      ],
      "source": [
        "# From Python lists\n",
        "l = [1,4,5,6,5]\n",
        "tensorFromList = torch.tensor(l)\n",
        "# From NumPy arrays\n",
        "np_data = np.arange(6).reshape((2, 3))\n",
        "tensorFromNp = torch.from_numpy(np_data)\n",
        "# Tensor with specific data type (float32, float64)\n",
        "tensorWithDtype = torch.FloatTensor(l)\n",
        "# Creating tensors with specific shapes\n",
        "ones_ = torch.ones([2, 3])\n",
        "\n",
        "print(tensorFromList,tensorFromNp, tensorWithDtype, ones_, sep='\\n\\n')"
      ]
    },
    {
      "cell_type": "markdown",
      "metadata": {
        "id": "2xdrFwA-Rs-9"
      },
      "source": [
        "# Tensor operations\n"
      ]
    },
    {
      "cell_type": "code",
      "execution_count": 4,
      "metadata": {
        "id": "lz6hlPQiRs--",
        "colab": {
          "base_uri": "https://localhost:8080/"
        },
        "outputId": "d8ef580e-a133-4d84-9711-27ca61bfc0ed"
      },
      "outputs": [
        {
          "output_type": "stream",
          "name": "stdout",
          "text": [
            "tensor([[1., 2., 3.],\n",
            "        [4., 5., 6.]])\n",
            "tensor([[1., 1.],\n",
            "        [1., 1.],\n",
            "        [1., 1.]])\n"
          ]
        },
        {
          "output_type": "execute_result",
          "data": {
            "text/plain": [
              "tensor([[1., 1., 1.],\n",
              "        [1., 1., 1.]], device='cuda:0')"
            ]
          },
          "metadata": {},
          "execution_count": 4
        }
      ],
      "source": [
        "# Adding, multiplication\n",
        "print(tensorFromNp+ones_)\n",
        "# Reshaping tensors\n",
        "print(ones_.reshape((3,2)))\n",
        "# Moving tensors to GPU if available\n",
        "ones_.to(device='cuda')"
      ]
    },
    {
      "cell_type": "markdown",
      "metadata": {
        "id": "swRcSKKDRs--"
      },
      "source": [
        "## 2. Autograd - Automatic Differentiation"
      ]
    },
    {
      "cell_type": "code",
      "execution_count": 5,
      "metadata": {
        "id": "2CwhapLWRs-_",
        "colab": {
          "base_uri": "https://localhost:8080/"
        },
        "outputId": "fc92b113-848a-4227-f2e9-13164e9cdd0a"
      },
      "outputs": [
        {
          "output_type": "stream",
          "name": "stdout",
          "text": [
            "1st time: \n",
            " tensor([[0.2440, 8.3029, 0.3788, 0.1274],\n",
            "        [1.4424, 4.6351, 4.2579, 2.4185],\n",
            "        [1.9354, 1.5084, 0.0661, 0.3867],\n",
            "        [3.6909, 1.5146, 0.4569, 0.1608]])\n",
            "2nd time: \n",
            " tensor([[ 0.4879, 16.6059,  0.7575,  0.2547],\n",
            "        [ 2.8849,  9.2703,  8.5159,  4.8371],\n",
            "        [ 3.8709,  3.0168,  0.1321,  0.7733],\n",
            "        [ 7.3818,  3.0292,  0.9138,  0.3215]])\n",
            "2nd time: \n",
            " tensor([[0.2440, 8.3029, 0.3788, 0.1274],\n",
            "        [1.4424, 4.6351, 4.2579, 2.4185],\n",
            "        [1.9354, 1.5084, 0.0661, 0.3867],\n",
            "        [3.6909, 1.5146, 0.4569, 0.1608]])\n"
          ]
        }
      ],
      "source": [
        "# Creating tensors with gradient tracking\n",
        "tens = torch.randn(4, 4, requires_grad=True)\n",
        "# Computing gradients\n",
        "y = torch.mean(5*(tens**2)* 2*tens)\n",
        "y.backward()\n",
        "print('1st time: \\n', tens.grad)\n",
        "# Example of gradient accumulation and zeroing\n",
        "# Gradient will accumulate if we don't zero it\n",
        "y = torch.mean(5*(tens**2)* 2*tens)\n",
        "y.backward()\n",
        "print('2nd time: \\n', tens.grad)\n",
        "\n",
        "# Zero the gradient and compute again\n",
        "\n",
        "tens.grad.zero_()\n",
        "y = torch.mean(5*(tens**2)* 2*tens)\n",
        "y.backward()\n",
        "print('2nd time: \\n', tens.grad)"
      ]
    },
    {
      "cell_type": "markdown",
      "metadata": {
        "id": "-LApmgnERs_A"
      },
      "source": [
        "## 3. Neural Networks with nn.Module\n"
      ]
    },
    {
      "cell_type": "code",
      "execution_count": 6,
      "metadata": {
        "id": "Hia4h3oWRs_A",
        "colab": {
          "base_uri": "https://localhost:8080/"
        },
        "outputId": "0e8c8fbe-3357-471b-a633-5f9e3c35584a"
      },
      "outputs": [
        {
          "output_type": "stream",
          "name": "stdout",
          "text": [
            "model output:  tensor([[-0.0031],\n",
            "        [-0.0699],\n",
            "        [-0.4150],\n",
            "        [-0.0254],\n",
            "        [-0.4238]], grad_fn=<AddmmBackward0>)\n",
            "\n",
            "\n",
            "Model Parameters:\n",
            "hidden.weight tensor([[-0.5509, -0.4520],\n",
            "        [-0.5019,  0.0855],\n",
            "        [-0.3386, -0.1349],\n",
            "        [-0.1345, -0.3606],\n",
            "        [-0.5210, -0.2661]])\n",
            "hidden.bias tensor([ 0.6642, -0.4566, -0.2670, -0.4929, -0.2146])\n",
            "predict.weight tensor([[-0.4221, -0.1074,  0.1886,  0.3502, -0.2147]])\n",
            "predict.bias tensor([-0.0031])\n"
          ]
        }
      ],
      "source": [
        "# Define a simple neural network\n",
        "class simple(nn.Module):\n",
        "    def __init__(self, n_feature, n_hidden, n_output):\n",
        "        super(simple, self).__init__()\n",
        "        self.hidden = nn.Linear(n_feature, n_hidden)\n",
        "        self.predict = torch.nn.Linear(n_hidden, n_output)\n",
        "\n",
        "    def forward(self, x):\n",
        "        x = torch.relu(self.hidden(x))\n",
        "        x = self.predict(x)\n",
        "        return x\n",
        "\n",
        "# Create a model instance\n",
        "model = simple(2, 5, 1)\n",
        "\n",
        "# Random input\n",
        "random_input = torch.randn(5,2)\n",
        "\n",
        "# Forward pass\n",
        "output = model(random_input)\n",
        "print('model output: ', output)\n",
        "# Access model parameters, print them\n",
        "print(\"\\n\\nModel Parameters:\")\n",
        "for name, param in model.named_parameters():\n",
        "    print(name, param.data)\n"
      ]
    },
    {
      "cell_type": "markdown",
      "metadata": {
        "id": "32T09SalRs_B"
      },
      "source": [
        "## 4. Loss Functions and Optimizers\n"
      ]
    },
    {
      "cell_type": "code",
      "execution_count": 7,
      "metadata": {
        "id": "vWw-M73sRs_B",
        "colab": {
          "base_uri": "https://localhost:8080/"
        },
        "outputId": "4f3586ea-acdb-43fe-b091-14f4e3bfbe6c"
      },
      "outputs": [
        {
          "output_type": "stream",
          "name": "stdout",
          "text": [
            "Epoch 1, Loss: 31.205760955810547\n",
            "Epoch 2, Loss: 26.655147552490234\n",
            "Epoch 3, Loss: 21.683076858520508\n",
            "Epoch 4, Loss: 16.379974365234375\n",
            "Epoch 5, Loss: 11.218669891357422\n"
          ]
        }
      ],
      "source": [
        "# Create some dummy data\n",
        "x = torch.randn(5, 3)\n",
        "y = torch.randint(1, 10, (5, 1))\n",
        "\n",
        "# Create a model\n",
        "class simple2(nn.Module):\n",
        "    def __init__(self):\n",
        "        super(simple2, self).__init__()\n",
        "        self.hidden = nn.Linear(3, 5)\n",
        "        self.predict = nn.Linear(5, 1)\n",
        "\n",
        "    def forward(self, x):\n",
        "        x = torch.relu(self.hidden(x))\n",
        "        x = self.predict(x)\n",
        "        return x\n",
        "\n",
        "model = simple2()\n",
        "# Define loss function and optimizer\n",
        "loss = lambda pred, tru: ((pred-tru)**2).mean()\n",
        "opt = torch.optim.Adam(model.parameters(), lr= 0.1)\n",
        "# Train for 5 epochs\n",
        "for epoch in range(5):\n",
        "    opt.zero_grad()\n",
        "    output = model(x)\n",
        "    lss = loss(output, y)\n",
        "    lss.backward()\n",
        "    opt.step()\n",
        "    print(f\"Epoch {epoch+1}, Loss: {lss.item()}\")"
      ]
    },
    {
      "cell_type": "markdown",
      "metadata": {
        "id": "exiF7YHERs_B"
      },
      "source": [
        "## 5. Datasets and DataLoaders\n"
      ]
    },
    {
      "cell_type": "code",
      "execution_count": 8,
      "metadata": {
        "id": "pRwur6A_Rs_B",
        "colab": {
          "base_uri": "https://localhost:8080/",
          "height": 261
        },
        "outputId": "2fbd6ba5-d529-4e80-b276-6ea70730887f"
      },
      "outputs": [
        {
          "output_type": "stream",
          "name": "stderr",
          "text": [
            "100%|██████████| 9.91M/9.91M [00:00<00:00, 16.1MB/s]\n",
            "100%|██████████| 28.9k/28.9k [00:00<00:00, 478kB/s]\n",
            "100%|██████████| 1.65M/1.65M [00:00<00:00, 4.44MB/s]\n",
            "100%|██████████| 4.54k/4.54k [00:00<00:00, 7.74MB/s]\n"
          ]
        },
        {
          "output_type": "display_data",
          "data": {
            "text/plain": [
              "<Figure size 640x480 with 1 Axes>"
            ],
            "image/png": "[encoded data removed]"
          },
          "metadata": {}
        }
      ],
      "source": [
        "# Define transformations\n",
        "transform = transforms.Compose([\n",
        "    transforms.ToTensor(),\n",
        "    transforms.Normalize(0.5, 0.5)\n",
        "])\n",
        "# Load MNIST dataset\n",
        "train_dataset = datasets.MNIST(root=\"./data\", train=True, download=True, transform=transform)\n",
        "test_dataset = datasets.MNIST(root=\"./data\", train=False, download=True, transform=transform)\n",
        "\n",
        "# Create DataLoaders\n",
        "train_loader = torch.utils.data.DataLoader(train_dataset, batch_size=32, shuffle=True, num_workers = 2)\n",
        "test_loader = torch.utils.data.DataLoader(test_dataset, batch_size=32, shuffle=False, num_workers = 2)\n",
        "\n",
        "# Visualize a batch of data\n",
        "images, labels = next(iter(train_loader))\n",
        "\n",
        "# Function to display images\n",
        "def imshow(img):\n",
        "    img = (img+1) / 2\n",
        "    img_npied = img.numpy()\n",
        "    plt.imshow(np.transpose(img_npied, (1, 2, 0)), cmap=\"gray\")\n",
        "    plt.show()\n",
        "\n",
        "# Display a batch of images\n",
        "# for img in images[:16]:\n",
        "#     imshow(img)\n",
        "imshow(utils.make_grid(images[:16]))\n"
      ]
    },
    {
      "cell_type": "markdown",
      "metadata": {
        "id": "14ItglcGRs_B"
      },
      "source": [
        "## 6. Convolutional Neural Networks (CNNs)\n"
      ]
    },
    {
      "cell_type": "code",
      "execution_count": 11,
      "metadata": {
        "id": "HZPBRFkyRs_C"
      },
      "outputs": [],
      "source": [
        "# Define a CNN model\n",
        "class CNN(nn.Module):\n",
        "    def __init__(self):\n",
        "        super(CNN, self).__init__()\n",
        "        self.con1 = nn.Conv2d(1, 32, kernel_size=3)   # 26x26\n",
        "        self.con2 = nn.Conv2d(32, 64, kernel_size=3)  # 24x24\n",
        "        self.mp = nn.MaxPool2d(2)\n",
        "        self.fc = nn.Linear(64*5*5, 10)\n",
        "\n",
        "    def forward(self, x):\n",
        "        in_size = x.size(0)\n",
        "        x = self.mp(torch.relu(self.con1(x)))\n",
        "        x = self.mp(torch.relu(self.con2(x)))\n",
        "        x = x.view(in_size, -1)\n",
        "        x = self.fc(x)\n",
        "\n",
        "        return x\n",
        "\n",
        "# Create a CNN model\n",
        "model = CNN()"
      ]
    },
    {
      "cell_type": "markdown",
      "metadata": {
        "id": "McofFvKhRs_D"
      },
      "source": [
        "## 7. Training a CNN on MNIST\n"
      ]
    },
    {
      "cell_type": "code",
      "execution_count": 12,
      "metadata": {
        "id": "TywiRUlRRs_D",
        "colab": {
          "base_uri": "https://localhost:8080/"
        },
        "outputId": "34e3e7c9-ac3c-48b0-f892-b9bf7028ee13"
      },
      "outputs": [
        {
          "output_type": "stream",
          "name": "stdout",
          "text": [
            "Epoch 1, Loss: 0.1333\n",
            "Epoch 2, Loss: 0.0478\n",
            "Epoch 3, Loss: 0.0342\n",
            "Epoch 4, Loss: 0.0261\n",
            "Epoch 5, Loss: 0.0212\n",
            "Epoch 6, Loss: 0.0166\n",
            "Epoch 7, Loss: 0.0132\n"
          ]
        }
      ],
      "source": [
        "# Move model to device (GPU if available)\n",
        "device = torch.device(\"cuda\" if torch.cuda.is_available() else \"cpu\")\n",
        "model.to(device)\n",
        "\n",
        "# Define loss function and optimizer\n",
        "lossfn = nn.CrossEntropyLoss()\n",
        "opt = torch.optim.Adam(model.parameters(), lr = 0.001)\n",
        "# Train function\n",
        "def train(model, train_loader, lossfn, optimizer, device, epochs= 7):\n",
        "    model.train()\n",
        "    for epoch in range(epochs):\n",
        "        cum_loss = 0\n",
        "        for images, labels in train_loader:\n",
        "            images, labels = images.to(device), labels.to(device)\n",
        "\n",
        "            optimizer.zero_grad()\n",
        "            outputs = model(images)\n",
        "            loss = lossfn(outputs, labels)\n",
        "            loss.backward()\n",
        "            optimizer.step()\n",
        "\n",
        "            cum_loss += loss.item()\n",
        "\n",
        "        print(f\"Epoch {epoch+1}, Loss: {cum_loss/len(train_loader):.4f}\")\n",
        "\n",
        "\n",
        "train(model, train_loader, lossfn, opt, device)"
      ]
    },
    {
      "cell_type": "markdown",
      "metadata": {
        "id": "vmT2h3fxRs_D"
      },
      "source": [
        "## 8. Evaluating the Model\n"
      ]
    },
    {
      "cell_type": "code",
      "execution_count": 13,
      "metadata": {
        "id": "liWDFLWWRs_D",
        "colab": {
          "base_uri": "https://localhost:8080/"
        },
        "outputId": "00a64152-a684-42c5-b8fa-f3ad5766383b"
      },
      "outputs": [
        {
          "output_type": "stream",
          "name": "stdout",
          "text": [
            "Test Accuracy: 98.97%\n"
          ]
        }
      ],
      "source": [
        "def evaluate(model, test_loader, device):\n",
        "    model.eval()\n",
        "    correct = 0\n",
        "    total = 0\n",
        "    with torch.no_grad():\n",
        "        for images, labels in test_loader:\n",
        "            images, labels = images.to(device), labels.to(device)\n",
        "            outputs = model(images)\n",
        "            _, predicted = torch.max(outputs, 1)\n",
        "            total += labels.size(0)\n",
        "            correct += (predicted == labels).sum().item()\n",
        "\n",
        "    accuracy = 100 * correct / total\n",
        "    print(f\"Test Accuracy: {accuracy:.2f}%\")\n",
        "\n",
        "evaluate(model, test_loader, device)"
      ]
    },
    {
      "cell_type": "markdown",
      "metadata": {
        "id": "qzr48JmnRs_F"
      },
      "source": [
        "## 9. Saving and Loading Models\n"
      ]
    },
    {
      "cell_type": "code",
      "execution_count": 14,
      "metadata": {
        "id": "vlI6MYt3Rs_F"
      },
      "outputs": [],
      "source": [
        "# Save model\n",
        "torch.save(model.state_dict(), 'model_params.pkl')\n",
        "\n",
        "# Load model\n",
        "model_loaded = torch.load('model_params.pkl')\n"
      ]
    },
    {
      "cell_type": "markdown",
      "metadata": {
        "id": "fPT-8uZARs_F"
      },
      "source": [
        "## 10. Transfer Learning\n"
      ]
    },
    {
      "cell_type": "code",
      "source": [
        "# Define a new model based on a pre-trained network\n",
        "class TransferLearningModel(nn.Module):\n",
        "    def __init__(self):\n",
        "        super(TransferLearningModel, self).__init__()\n",
        "        self.model = models.resnet18(pretrained=True)\n",
        "\n",
        "        self.model.conv1 = nn.Conv2d(1, 64, kernel_size=3, bias=True)\n",
        "\n",
        "        for param in self.model.parameters():\n",
        "            param.requires_grad = False\n",
        "\n",
        "\n",
        "        num_features = self.model.fc.in_features\n",
        "        self.model.fc = nn.Linear(num_features, 10)\n",
        "\n",
        "    def forward(self, x):\n",
        "        return self.model(x)\n",
        "\n",
        "# Create transfer learning model\n",
        "Tmodel = TransferLearningModel().to(device)\n",
        "optT = torch.optim.Adam(Tmodel.parameters(), lr= 0.001)\n",
        "\n",
        "train(Tmodel, train_loader, lossfn, optT, device)\n",
        "\n",
        "evaluate(Tmodel, test_loader, device)"
      ],
      "metadata": {
        "colab": {
          "base_uri": "https://localhost:8080/"
        },
        "id": "XtvcuLIgIqgH",
        "outputId": "9f395197-da4c-4b15-a7cd-46c31d0ba926"
      },
      "execution_count": 20,
      "outputs": [
        {
          "output_type": "stream",
          "name": "stdout",
          "text": [
            "Epoch 1, Loss: 0.7505\n",
            "Epoch 2, Loss: 0.6040\n",
            "Epoch 3, Loss: 0.5855\n",
            "Epoch 4, Loss: 0.5866\n",
            "Epoch 5, Loss: 0.5783\n",
            "Epoch 6, Loss: 0.5764\n",
            "Epoch 7, Loss: 0.5733\n",
            "Test Accuracy: 84.29%\n"
          ]
        }
      ]
    },
    {
      "cell_type": "markdown",
      "metadata": {
        "id": "47J9KXeBRs_F"
      },
      "source": [
        "## 11. Advanced Techniques: Learning Rate Scheduler\n"
      ]
    },
    {
      "cell_type": "code",
      "execution_count": 32,
      "metadata": {
        "id": "A9ZzgstRRs_F",
        "colab": {
          "base_uri": "https://localhost:8080/"
        },
        "outputId": "5bd871ce-3b3a-46ec-d938-d0bbdc9eb8b9"
      },
      "outputs": [
        {
          "output_type": "stream",
          "name": "stdout",
          "text": [
            "Epoch 1, Loss: 0.7863, lr: 0.001000\n",
            "Epoch 2, Loss: 0.6369, lr: 0.001000\n",
            "Epoch 3, Loss: 0.6193, lr: 0.001000\n",
            "Epoch 4, Loss: 0.6148, lr: 0.001000\n",
            "Epoch 5, Loss: 0.6088, lr: 0.000500\n",
            "Epoch 6, Loss: 0.5822, lr: 0.000500\n",
            "Epoch 7, Loss: 0.5760, lr: 0.000500\n",
            "Epoch 8, Loss: 0.5776, lr: 0.000500\n",
            "Epoch 9, Loss: 0.5801, lr: 0.000500\n",
            "Epoch 10, Loss: 0.5762, lr: 0.000250\n",
            "Epoch 11, Loss: 0.5633, lr: 0.000250\n",
            "Epoch 12, Loss: 0.5569, lr: 0.000250\n",
            "Epoch 13, Loss: 0.5651, lr: 0.000250\n",
            "Epoch 14, Loss: 0.5583, lr: 0.000250\n",
            "Epoch 15, Loss: 0.5608, lr: 0.000125\n",
            "Test Accuracy: 84.47%\n"
          ]
        }
      ],
      "source": [
        "# Define a learning rate scheduler\n",
        "Tmodel5 = TransferLearningModel().to(device)\n",
        "optT = torch.optim.Adam(Tmodel5.parameters(), lr= 0.001)\n",
        "scheduler = torch.optim.lr_scheduler.StepLR(optT, step_size=5, gamma=0.5)\n",
        "\n",
        "# Simulate training for 15 epochs\n",
        "def train(model, train_loader, lossfn, optimizer, device, epochs= 15):\n",
        "    model.train()\n",
        "\n",
        "    for epoch in range(epochs):\n",
        "        cum_loss = 0\n",
        "        for images, labels in train_loader:\n",
        "            images, labels = images.to(device), labels.to(device)\n",
        "\n",
        "            optimizer.zero_grad()\n",
        "            outputs = model(images)\n",
        "            loss = lossfn(outputs, labels)\n",
        "            loss.backward()\n",
        "            optimizer.step()\n",
        "\n",
        "            cum_loss += loss.item()\n",
        "        scheduler.step()\n",
        "        current_lr = scheduler.get_last_lr()[0]\n",
        "        print(f\"Epoch {epoch+1}, Loss: {cum_loss/len(train_loader):.4f}, lr: {current_lr:.6f}\")\n",
        "\n",
        "train(Tmodel5, train_loader, lossfn, optT, device, epochs = 15)\n",
        "evaluate(Tmodel5, test_loader, device)"
      ]
    },
    {
      "cell_type": "code",
      "source": [],
      "metadata": {
        "id": "V8J_iGV5Pl_a"
      },
      "execution_count": null,
      "outputs": []
    },
    {
      "cell_type": "markdown",
      "metadata": {
        "id": "JDl3l0mERs_F"
      },
      "source": [
        "## 12. Custom Datasets\n"
      ]
    },
    {
      "cell_type": "code",
      "source": [],
      "metadata": {
        "id": "aNYE9dtlTGEt"
      },
      "execution_count": null,
      "outputs": []
    },
    {
      "cell_type": "code",
      "execution_count": 36,
      "metadata": {
        "id": "RpuG6fAuRs_F"
      },
      "outputs": [],
      "source": [
        "class TabularDataset(Dataset):\n",
        "    def __init__(self, n_samples=100, n_features=5):\n",
        "        super().__init__()\n",
        "\n",
        "        self.features = torch.randn(n_samples, n_features)\n",
        "        self.labels = torch.randint(0, 2, (n_samples,))\n",
        "\n",
        "    def __len__(self):\n",
        "        return len(self.features)\n",
        "\n",
        "    def __getitem__(self, idx):\n",
        "\n",
        "        x = self.features[idx]\n",
        "        y = self.labels[idx]\n",
        "        return x, y\n",
        "\n",
        "# Create a simple custom dataset\n",
        "custom_dataset = TabularDataset(n_samples=100, n_features=5)\n"
      ]
    },
    {
      "cell_type": "markdown",
      "metadata": {
        "id": "Sv3KmrehRs_F"
      },
      "source": [
        "----------------------------------------------\n",
        "\n",
        "$$ Wish \\space you \\space all \\space the \\space best \\space ♡ $$\n",
        "$$ Mahmoud \\space Shawqi $$"
      ]
    }
  ],
  "metadata": {
    "kernelspec": {
      "display_name": "Python 3",
      "name": "python3"
    },
    "language_info": {
      "name": "python",
      "version": "3.10.15"
    },
    "colab": {
      "provenance": [],
      "gpuType": "T4"
    },
    "accelerator": "GPU"
  },
  "nbformat": 4,
  "nbformat_minor": 0
}